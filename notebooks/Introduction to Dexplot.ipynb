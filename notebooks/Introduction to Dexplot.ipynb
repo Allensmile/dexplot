{
 "cells": [
  {
   "cell_type": "markdown",
   "metadata": {},
   "source": [
    "\n",
    "# Dexplot\n",
    "\n",
    "Dexplot is a Python library for delivering beautiful data visualizations. It's aim is to be powerful with a simple and intuitive user experience.\n",
    "\n",
    "## Goals\n",
    "\n",
    "The primary goals for dexplot are:\n",
    "\n",
    "* Maintain a very consistent API with as few functions as necessary to make the desired statistical plots\n",
    "* Allow the user to tweak the plots without digging into matplotlib\n",
    "\n",
    "## Installation\n",
    "\n",
    "`pip install dexplot`"
   ]
  },
  {
   "cell_type": "markdown",
   "metadata": {},
   "source": [
    "## Built for long and wide data\n",
    "\n",
    "Dexplot is primarily built for long data, which is a form of data where each row represents a single observation and each column represents a distinct quantity. It is often referred to as \"tidy\" data.\n",
    "\n",
    "Dexplot also has the ability to handle wide data, where multiple columns may contain values that represent the same kind of quantity.\n",
    "\n",
    "## Usage\n",
    "\n",
    "Dexplot provides a small number of powerful functions that all work similarly. Most plotting functions have the following signature:\n",
    "\n",
    "```python\n",
    "dxp.plotting_func(x, y, data, aggfunc, split, row, col, orientation, ...)\n",
    "```\n",
    "\n",
    "* `x` - Column name along the x-axis\n",
    "* `y` - Column name the y-axis\n",
    "* `data` - Pandas DataFrame\n",
    "* `aggfunc` - String of pandas aggregation function, 'min', 'max', 'mean', etc...\n",
    "* `split` - Column name to split data into distinct groups\n",
    "* `row` - Column name to split data into distinct subplots row-wise\n",
    "* `col` - Column name to split data into distinct subplots column-wise\n",
    "* `orientation` - Either vertical (`'v'`) or horizontal (`'h'`). Default for most plots is vertical.\n",
    "\n",
    "When `aggfunc` is provided, `x` will be the grouping variable and `y` will be aggregated when vertical and vice-versa when horizontal. The best way to learn how to use dexplot is with the examples below.\n",
    "\n",
    "## Comparison with Seaborn\n",
    "\n",
    "If you have used the seaborn library, then you should notice a lot of similarities. Much of Dexplot was inspired by Seaborn. Below is a list of the extra features in dexplot not found in seaborn\n",
    "\n",
    "* The ability to graph relative frequency percentage and normalize over any number of variables\n",
    "* Far fewer public functions\n",
    "* No need for multiple functions to do the same thing\n",
    "* Ability to make grids with a single function instead of having to use a higher level function like `catplot`\n",
    "* Pandas `groupby` methods are available as strings\n",
    "* Ability to sort by values\n",
    "* Ability to sort x/y labels lexicographically\n",
    "* Both x/y-labels and titles are automatically wrapped so that they don't overlap\n",
    "* The figure size (plus several other options) and available to change without using matplotlib\n",
    "* Only matplotlib objects are returned\n",
    "\n",
    "## Examples\n",
    "\n",
    "Most of the examples below use long data."
   ]
  },
  {
   "cell_type": "markdown",
   "metadata": {},
   "source": [
    "## Bar Charts\n",
    "\n",
    "The examples come from the Airbnb dataset, which contains many property rental listings from the Washington D.C. area."
   ]
  },
  {
   "cell_type": "code",
   "execution_count": 1,
   "metadata": {},
   "outputs": [],
   "source": [
    "%load_ext autoreload\n",
    "%autoreload 2"
   ]
  },
  {
   "cell_type": "code",
   "execution_count": 2,
   "metadata": {},
   "outputs": [
    {
     "data": {
      "text/html": [
       "<div>\n",
       "<style scoped>\n",
       "    .dataframe tbody tr th:only-of-type {\n",
       "        vertical-align: middle;\n",
       "    }\n",
       "\n",
       "    .dataframe tbody tr th {\n",
       "        vertical-align: top;\n",
       "    }\n",
       "\n",
       "    .dataframe thead th {\n",
       "        text-align: right;\n",
       "    }\n",
       "</style>\n",
       "<table border=\"1\" class=\"dataframe\">\n",
       "  <thead>\n",
       "    <tr style=\"text-align: right;\">\n",
       "      <th></th>\n",
       "      <th>neighborhood</th>\n",
       "      <th>property_type</th>\n",
       "      <th>accommodates</th>\n",
       "      <th>bathrooms</th>\n",
       "      <th>bedrooms</th>\n",
       "      <th>price</th>\n",
       "      <th>cleaning_fee</th>\n",
       "      <th>rating</th>\n",
       "      <th>superhost</th>\n",
       "      <th>response_time</th>\n",
       "      <th>latitude</th>\n",
       "      <th>longitude</th>\n",
       "    </tr>\n",
       "  </thead>\n",
       "  <tbody>\n",
       "    <tr>\n",
       "      <th>0</th>\n",
       "      <td>Shaw</td>\n",
       "      <td>Townhouse</td>\n",
       "      <td>16</td>\n",
       "      <td>3.5</td>\n",
       "      <td>4</td>\n",
       "      <td>433</td>\n",
       "      <td>250</td>\n",
       "      <td>95.0</td>\n",
       "      <td>0</td>\n",
       "      <td>within an hour</td>\n",
       "      <td>38.90982</td>\n",
       "      <td>-77.02016</td>\n",
       "    </tr>\n",
       "    <tr>\n",
       "      <th>1</th>\n",
       "      <td>Brightwood Park</td>\n",
       "      <td>Townhouse</td>\n",
       "      <td>4</td>\n",
       "      <td>3.5</td>\n",
       "      <td>4</td>\n",
       "      <td>154</td>\n",
       "      <td>50</td>\n",
       "      <td>97.0</td>\n",
       "      <td>0</td>\n",
       "      <td>NaN</td>\n",
       "      <td>38.95888</td>\n",
       "      <td>-77.02554</td>\n",
       "    </tr>\n",
       "    <tr>\n",
       "      <th>2</th>\n",
       "      <td>Capitol Hill</td>\n",
       "      <td>House</td>\n",
       "      <td>2</td>\n",
       "      <td>1.5</td>\n",
       "      <td>1</td>\n",
       "      <td>83</td>\n",
       "      <td>35</td>\n",
       "      <td>97.0</td>\n",
       "      <td>1</td>\n",
       "      <td>within an hour</td>\n",
       "      <td>38.88791</td>\n",
       "      <td>-76.99668</td>\n",
       "    </tr>\n",
       "    <tr>\n",
       "      <th>3</th>\n",
       "      <td>Shaw</td>\n",
       "      <td>House</td>\n",
       "      <td>2</td>\n",
       "      <td>2.5</td>\n",
       "      <td>1</td>\n",
       "      <td>475</td>\n",
       "      <td>0</td>\n",
       "      <td>98.0</td>\n",
       "      <td>0</td>\n",
       "      <td>NaN</td>\n",
       "      <td>38.91331</td>\n",
       "      <td>-77.02436</td>\n",
       "    </tr>\n",
       "    <tr>\n",
       "      <th>4</th>\n",
       "      <td>Kalorama Heights</td>\n",
       "      <td>Apartment</td>\n",
       "      <td>3</td>\n",
       "      <td>1.0</td>\n",
       "      <td>1</td>\n",
       "      <td>118</td>\n",
       "      <td>15</td>\n",
       "      <td>91.0</td>\n",
       "      <td>0</td>\n",
       "      <td>within an hour</td>\n",
       "      <td>38.91933</td>\n",
       "      <td>-77.04124</td>\n",
       "    </tr>\n",
       "  </tbody>\n",
       "</table>\n",
       "</div>"
      ],
      "text/plain": [
       "       neighborhood property_type  accommodates  bathrooms  bedrooms  price  \\\n",
       "0              Shaw     Townhouse            16        3.5         4    433   \n",
       "1   Brightwood Park     Townhouse             4        3.5         4    154   \n",
       "2      Capitol Hill         House             2        1.5         1     83   \n",
       "3              Shaw         House             2        2.5         1    475   \n",
       "4  Kalorama Heights     Apartment             3        1.0         1    118   \n",
       "\n",
       "   cleaning_fee  rating  superhost   response_time  latitude  longitude  \n",
       "0           250    95.0          0  within an hour  38.90982  -77.02016  \n",
       "1            50    97.0          0             NaN  38.95888  -77.02554  \n",
       "2            35    97.0          1  within an hour  38.88791  -76.99668  \n",
       "3             0    98.0          0             NaN  38.91331  -77.02436  \n",
       "4            15    91.0          0  within an hour  38.91933  -77.04124  "
      ]
     },
     "execution_count": 2,
     "metadata": {},
     "output_type": "execute_result"
    }
   ],
   "source": [
    "import dexplot as dxp\n",
    "import pandas as pd\n",
    "import seaborn as sns\n",
    "import numpy as np\n",
    "import matplotlib.pyplot as plt\n",
    "pd.set_option('display.max_columns', None)\n",
    "airbnb = dxp.load_dataset('airbnb')\n",
    "airbnb.head()"
   ]
  },
  {
   "cell_type": "code",
   "execution_count": 3,
   "metadata": {},
   "outputs": [
    {
     "data": {
      "text/plain": [
       "(4902, 12)"
      ]
     },
     "execution_count": 3,
     "metadata": {},
     "output_type": "execute_result"
    }
   ],
   "source": [
    "airbnb.shape"
   ]
  },
  {
   "cell_type": "markdown",
   "metadata": {},
   "source": [
    "There are nearly 5,000 listings in our dataset. We will use bar charts to aggregate the data."
   ]
  },
  {
   "cell_type": "markdown",
   "metadata": {},
   "source": [
    "### Vertical bar charts\n",
    "\n",
    "In order to performa an aggregation, you must supply a value for `aggfunc`. Here, we find the median price per neighborhood. Notice that the column names automatically wrap."
   ]
  },
  {
   "cell_type": "code",
   "execution_count": 6,
   "metadata": {},
   "outputs": [
    {
     "data": {
      "image/png": "[encoded data removed]",
      "text/plain": [
       "<Figure size 567.648x316.8 with 1 Axes>"
      ]
     },
     "execution_count": 6,
     "metadata": {},
     "output_type": "execute_result"
    }
   ],
   "source": [
    "dxp.bar(x='neighborhood', y='price', data=airbnb, aggfunc='median')"
   ]
  },
  {
   "cell_type": "code",
   "execution_count": 4,
   "metadata": {
    "scrolled": true
   },
   "outputs": [
    {
     "data": {
      "image/png": "[encoded data removed]",
      "text/plain": [
       "<Figure size 303.264x316.8 with 1 Axes>"
      ]
     },
     "execution_count": 4,
     "metadata": {},
     "output_type": "execute_result"
    }
   ],
   "source": [
    "dxp.bar(x='neighborhood', y='price', data=airbnb, aggfunc='median', split='property_type',\n",
    "       split_order=['Apartment', 'House'], x_order=['Dupont Circle', 'Capitol Hill'])"
   ]
  },
  {
   "cell_type": "code",
   "execution_count": 5,
   "metadata": {},
   "outputs": [
    {
     "data": {
      "image/png": "[encoded data removed]",
      "text/plain": [
       "<Figure size 567.648x316.8 with 1 Axes>"
      ]
     },
     "execution_count": 5,
     "metadata": {},
     "output_type": "execute_result"
    }
   ],
   "source": []
  },
  {
   "cell_type": "markdown",
   "metadata": {},
   "source": [
    "### "
   ]
  },
  {
   "cell_type": "code",
   "execution_count": null,
   "metadata": {},
   "outputs": [],
   "source": []
  },
  {
   "cell_type": "code",
   "execution_count": null,
   "metadata": {},
   "outputs": [],
   "source": [
    "airbnb.groupby('neighborhood').agg({'price': 'median'})"
   ]
  },
  {
   "cell_type": "code",
   "execution_count": null,
   "metadata": {},
   "outputs": [],
   "source": [
    "sns.set_style('darkgrid')\n",
    "ax = sns.barplot(x='neighborhood', y='price', data=airbnb, estimator=np.median)\n",
    "ax.figure.set_dpi(144)"
   ]
  },
  {
   "cell_type": "code",
   "execution_count": null,
   "metadata": {},
   "outputs": [],
   "source": []
  }
 ],
 "metadata": {
  "kernelspec": {
   "display_name": "Python 3",
   "language": "python",
   "name": "python3"
  },
  "language_info": {
   "codemirror_mode": {
    "name": "ipython",
    "version": 3
   },
   "file_extension": ".py",
   "mimetype": "text/x-python",
   "name": "python",
   "nbconvert_exporter": "python",
   "pygments_lexer": "ipython3",
   "version": "3.8.3"
  }
 },
 "nbformat": 4,
 "nbformat_minor": 2
}
