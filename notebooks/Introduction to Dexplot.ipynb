{
 "cells": [
  {
   "cell_type": "markdown",
   "metadata": {},
   "source": [
    "\n",
    "# Dexplot\n",
    "\n",
    "A Python library for making data visualizations.\n",
    "\n",
    "The aim of dexplot is to make data visualization creation in Python more robust and straightforward. Dexplot is built on top of Matplotlib and accepts Pandas DataFrames as inputs.\n",
    "\n",
    "## Goals\n",
    "\n",
    "The primary goals for dexplot are:\n",
    "\n",
    "* Maintain a very consistent API with as few functions as necessary to make the desired statistical plots\n",
    "* Allow the user to tweak the plots without digging into matplotlib\n",
    "\n",
    "## Installation\n",
    "\n",
    "`pip install dexplot`\n",
    "\n",
    "# Comparison with Seaborn\n",
    "\n",
    "If you have used the seaborn library, then you should notice a lot of similarities. Much of Dexplot was inspired by Seaborn. Below is a list of the extra features in dexplot not found in seaborn\n",
    "\n",
    "* The ability to graph relative frequency percentage and normalize over any number of variables\n",
    "* Far fewer public functions\n",
    "* No need for multiple functions to do the same thing\n",
    "* Ability to make grids with a single function instead of having to use a higher level function like `catplot`\n",
    "* Pandas `groupby` methods are available as strings\n",
    "* Both x/y-labels and titles are automatically wrapped so that they don't overlap\n",
    "* The figure size (plus several other options) and available to change without dipping down into matplotlib\n",
    "* No new types like FacetGrid. Only matplotlib objects are returned\n"
   ]
  },
  {
   "cell_type": "markdown",
   "metadata": {},
   "source": [
    "# Bar Charts"
   ]
  },
  {
   "cell_type": "code",
   "execution_count": 1,
   "metadata": {},
   "outputs": [],
   "source": [
    "%load_ext autoreload\n",
    "%autoreload 2"
   ]
  },
  {
   "cell_type": "code",
   "execution_count": 2,
   "metadata": {},
   "outputs": [
    {
     "data": {
      "text/html": [
       "<div>\n",
       "<style scoped>\n",
       "    .dataframe tbody tr th:only-of-type {\n",
       "        vertical-align: middle;\n",
       "    }\n",
       "\n",
       "    .dataframe tbody tr th {\n",
       "        vertical-align: top;\n",
       "    }\n",
       "\n",
       "    .dataframe thead th {\n",
       "        text-align: right;\n",
       "    }\n",
       "</style>\n",
       "<table border=\"1\" class=\"dataframe\">\n",
       "  <thead>\n",
       "    <tr style=\"text-align: right;\">\n",
       "      <th></th>\n",
       "      <th>neighborhood</th>\n",
       "      <th>property_type</th>\n",
       "      <th>accommodates</th>\n",
       "      <th>bathrooms</th>\n",
       "      <th>bedrooms</th>\n",
       "      <th>price</th>\n",
       "      <th>cleaning_fee</th>\n",
       "      <th>rating</th>\n",
       "      <th>superhost</th>\n",
       "      <th>response_time</th>\n",
       "      <th>latitude</th>\n",
       "      <th>longitude</th>\n",
       "    </tr>\n",
       "  </thead>\n",
       "  <tbody>\n",
       "    <tr>\n",
       "      <th>0</th>\n",
       "      <td>Shaw</td>\n",
       "      <td>Townhouse</td>\n",
       "      <td>16</td>\n",
       "      <td>3.5</td>\n",
       "      <td>4</td>\n",
       "      <td>433</td>\n",
       "      <td>250</td>\n",
       "      <td>95.0</td>\n",
       "      <td>0</td>\n",
       "      <td>within an hour</td>\n",
       "      <td>38.90982</td>\n",
       "      <td>-77.02016</td>\n",
       "    </tr>\n",
       "    <tr>\n",
       "      <th>1</th>\n",
       "      <td>Brightwood Park</td>\n",
       "      <td>Townhouse</td>\n",
       "      <td>4</td>\n",
       "      <td>3.5</td>\n",
       "      <td>4</td>\n",
       "      <td>154</td>\n",
       "      <td>50</td>\n",
       "      <td>97.0</td>\n",
       "      <td>0</td>\n",
       "      <td>NaN</td>\n",
       "      <td>38.95888</td>\n",
       "      <td>-77.02554</td>\n",
       "    </tr>\n",
       "    <tr>\n",
       "      <th>2</th>\n",
       "      <td>Columbia Heights</td>\n",
       "      <td>Other</td>\n",
       "      <td>2</td>\n",
       "      <td>1.0</td>\n",
       "      <td>1</td>\n",
       "      <td>88</td>\n",
       "      <td>0</td>\n",
       "      <td>NaN</td>\n",
       "      <td>0</td>\n",
       "      <td>NaN</td>\n",
       "      <td>38.92760</td>\n",
       "      <td>-77.03926</td>\n",
       "    </tr>\n",
       "    <tr>\n",
       "      <th>3</th>\n",
       "      <td>Capitol Hill</td>\n",
       "      <td>House</td>\n",
       "      <td>2</td>\n",
       "      <td>1.5</td>\n",
       "      <td>1</td>\n",
       "      <td>83</td>\n",
       "      <td>35</td>\n",
       "      <td>97.0</td>\n",
       "      <td>1</td>\n",
       "      <td>within an hour</td>\n",
       "      <td>38.88791</td>\n",
       "      <td>-76.99668</td>\n",
       "    </tr>\n",
       "    <tr>\n",
       "      <th>4</th>\n",
       "      <td>Shaw</td>\n",
       "      <td>House</td>\n",
       "      <td>2</td>\n",
       "      <td>2.5</td>\n",
       "      <td>1</td>\n",
       "      <td>475</td>\n",
       "      <td>0</td>\n",
       "      <td>98.0</td>\n",
       "      <td>0</td>\n",
       "      <td>NaN</td>\n",
       "      <td>38.91331</td>\n",
       "      <td>-77.02436</td>\n",
       "    </tr>\n",
       "  </tbody>\n",
       "</table>\n",
       "</div>"
      ],
      "text/plain": [
       "       neighborhood property_type  accommodates  bathrooms  bedrooms  price  \\\n",
       "0              Shaw     Townhouse            16        3.5         4    433   \n",
       "1   Brightwood Park     Townhouse             4        3.5         4    154   \n",
       "2  Columbia Heights         Other             2        1.0         1     88   \n",
       "3      Capitol Hill         House             2        1.5         1     83   \n",
       "4              Shaw         House             2        2.5         1    475   \n",
       "\n",
       "   cleaning_fee  rating  superhost   response_time  latitude  longitude  \n",
       "0           250    95.0          0  within an hour  38.90982  -77.02016  \n",
       "1            50    97.0          0             NaN  38.95888  -77.02554  \n",
       "2             0     NaN          0             NaN  38.92760  -77.03926  \n",
       "3            35    97.0          1  within an hour  38.88791  -76.99668  \n",
       "4             0    98.0          0             NaN  38.91331  -77.02436  "
      ]
     },
     "execution_count": 2,
     "metadata": {},
     "output_type": "execute_result"
    }
   ],
   "source": [
    "import dexplot as dxp\n",
    "import pandas as pd\n",
    "import seaborn as sns\n",
    "import numpy as np\n",
    "import matplotlib.pyplot as plt\n",
    "airbnb = pd.read_csv('../data/airbnb.csv')\n",
    "pd.set_option('display.max_columns', None)\n",
    "airbnb.head()"
   ]
  },
  {
   "cell_type": "code",
   "execution_count": 21,
   "metadata": {},
   "outputs": [
    {
     "data": {
      "image/png": "[encoded data removed]",
      "text/plain": [
       "<Figure size 505.44x316.8 with 1 Axes>"
      ]
     },
     "execution_count": 21,
     "metadata": {},
     "output_type": "execute_result"
    }
   ],
   "source": [
    "dxp.bar(x='neighborhood', y='price', data=airbnb, aggfunc='median', sort='lex_asc')"
   ]
  },
  {
   "cell_type": "code",
   "execution_count": 23,
   "metadata": {},
   "outputs": [],
   "source": [
    "d = {'a': 1, 'b': 2}"
   ]
  },
  {
   "cell_type": "code",
   "execution_count": 25,
   "metadata": {},
   "outputs": [
    {
     "data": {
      "text/plain": [
       "'a, b'"
      ]
     },
     "execution_count": 25,
     "metadata": {},
     "output_type": "execute_result"
    }
   ],
   "source": [
    "', '.join(d.keys())"
   ]
  },
  {
   "cell_type": "code",
   "execution_count": 5,
   "metadata": {},
   "outputs": [
    {
     "data": {
      "image/png": "[encoded data removed]",
      "text/plain": [
       "<Figure size 864x576 with 1 Axes>"
      ]
     },
     "metadata": {
      "needs_background": "light"
     },
     "output_type": "display_data"
    }
   ],
   "source": [
    "ax = sns.barplot(x='neighborhood', y='price', data=airbnb, estimator=np.median)\n",
    "ax.figure.set_dpi(144)"
   ]
  },
  {
   "cell_type": "code",
   "execution_count": null,
   "metadata": {},
   "outputs": [],
   "source": []
  }
 ],
 "metadata": {
  "kernelspec": {
   "display_name": "Python 3",
   "language": "python",
   "name": "python3"
  },
  "language_info": {
   "codemirror_mode": {
    "name": "ipython",
    "version": 3
   },
   "file_extension": ".py",
   "mimetype": "text/x-python",
   "name": "python",
   "nbconvert_exporter": "python",
   "pygments_lexer": "ipython3",
   "version": "3.8.3"
  }
 },
 "nbformat": 4,
 "nbformat_minor": 2
}
